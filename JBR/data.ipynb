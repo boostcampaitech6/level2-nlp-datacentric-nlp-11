{
 "cells": [
  {
   "cell_type": "code",
   "execution_count": null,
   "metadata": {},
   "outputs": [],
   "source": []
  },
  {
   "cell_type": "code",
   "execution_count": 6,
   "metadata": {},
   "outputs": [],
   "source": [
    "from datasets import load_dataset\n",
    "from transformers import AutoTokenizer\n",
    "from transformers import AutoModelForSequenceClassification\n",
    "from transformers import TrainingArguments"
   ]
  },
  {
   "cell_type": "code",
   "execution_count": 5,
   "metadata": {},
   "outputs": [],
   "source": [
    "from datasets import load_dataset_builder\n",
    "ynat_builder = load_dataset_builder('klue', 'ynat')"
   ]
  },
  {
   "cell_type": "code",
   "execution_count": 7,
   "metadata": {},
   "outputs": [
    {
     "data": {
      "text/plain": [
       "{'guid': Value(dtype='string', id=None),\n",
       " 'title': Value(dtype='string', id=None),\n",
       " 'label': ClassLabel(names=['IT과학', '경제', '사회', '생활문화', '세계', '스포츠', '정치'], id=None),\n",
       " 'url': Value(dtype='string', id=None),\n",
       " 'date': Value(dtype='string', id=None)}"
      ]
     },
     "execution_count": 7,
     "metadata": {},
     "output_type": "execute_result"
    }
   ],
   "source": [
    "ynat_builder.info.features"
   ]
  },
  {
   "cell_type": "code",
   "execution_count": 8,
   "metadata": {},
   "outputs": [
    {
     "data": {
      "application/vnd.jupyter.widget-view+json": {
       "model_id": "0c1411a7d39246568468d0dcaa23ae9d",
       "version_major": 2,
       "version_minor": 0
      },
      "text/plain": [
       "Downloading data:   0%|          | 0.00/4.17M [00:00<?, ?B/s]"
      ]
     },
     "metadata": {},
     "output_type": "display_data"
    },
    {
     "data": {
      "application/vnd.jupyter.widget-view+json": {
       "model_id": "7fd49c9bcede466390aa9fbe2538a6c1",
       "version_major": 2,
       "version_minor": 0
      },
      "text/plain": [
       "Downloading data:   0%|          | 0.00/847k [00:00<?, ?B/s]"
      ]
     },
     "metadata": {},
     "output_type": "display_data"
    },
    {
     "data": {
      "application/vnd.jupyter.widget-view+json": {
       "model_id": "38789ea8ac0e4cfabade8fb74ca5ca81",
       "version_major": 2,
       "version_minor": 0
      },
      "text/plain": [
       "Generating train split:   0%|          | 0/45678 [00:00<?, ? examples/s]"
      ]
     },
     "metadata": {},
     "output_type": "display_data"
    },
    {
     "data": {
      "application/vnd.jupyter.widget-view+json": {
       "model_id": "ab8d40f1d090440594195d25d71ff2ac",
       "version_major": 2,
       "version_minor": 0
      },
      "text/plain": [
       "Generating validation split:   0%|          | 0/9107 [00:00<?, ? examples/s]"
      ]
     },
     "metadata": {},
     "output_type": "display_data"
    }
   ],
   "source": [
    "ynat_builder.download_and_prepare('./klue_ynat/',file_format='parquet')"
   ]
  },
  {
   "cell_type": "code",
   "execution_count": 9,
   "metadata": {},
   "outputs": [],
   "source": [
    "import pandas as pd\n",
    "\n",
    "# Parquet 파일 경로\n",
    "parquet_file = './klue_ynat/klue-train.parquet'\n",
    "parquet_file2 = './klue_ynat/klue-validation.parquet'\n",
    "# CSV 파일 경로 (저장될 경로)\n",
    "csv_file = './klue_ynat/klue_ynat_train.csv'\n",
    "csv_file2 = './klue_ynat/klue_ynat_valid.csv'\n",
    "# Parquet 파일을 .Frame으로 읽기\n",
    "df = pd.read_parquet(parquet_file)\n",
    "df2 = pd.read_parquet(parquet_file2)\n",
    "\n",
    "# dataFrame을 CSV 파일로 저장\n",
    "df.to_csv(csv_file, index=False)\n",
    "df2.to_csv(csv_file2, index=False)"
   ]
  },
  {
   "cell_type": "code",
   "execution_count": 10,
   "metadata": {},
   "outputs": [],
   "source": [
    "concatenated_df = pd.concat([df, df2])\n",
    "\n",
    "concatenated_df.to_csv('./klue_ynat/klue_ynat.csv', index=False)"
   ]
  },
  {
   "cell_type": "code",
   "execution_count": 11,
   "metadata": {},
   "outputs": [
    {
     "data": {
      "text/plain": [
       "(45678, 9107)"
      ]
     },
     "execution_count": 11,
     "metadata": {},
     "output_type": "execute_result"
    }
   ],
   "source": [
    "length_df = len(df)\n",
    "length_df2 = len(df2)\n",
    "\n",
    "length_df, length_df2\n"
   ]
  },
  {
   "cell_type": "code",
   "execution_count": 12,
   "metadata": {},
   "outputs": [],
   "source": [
    "train_df = pd.read_csv('./train.csv')\n",
    "test_df = pd.read_csv('./test.csv')"
   ]
  },
  {
   "cell_type": "code",
   "execution_count": 13,
   "metadata": {},
   "outputs": [
    {
     "data": {
      "text/plain": [
       "(7000, 47785)"
      ]
     },
     "execution_count": 13,
     "metadata": {},
     "output_type": "execute_result"
    }
   ],
   "source": [
    "length_train_df = len(train_df)\n",
    "length_test_df = len(test_df)\n",
    "\n",
    "length_train_df, length_test_df"
   ]
  },
  {
   "cell_type": "code",
   "execution_count": 20,
   "metadata": {},
   "outputs": [
    {
     "data": {
      "text/plain": [
       "54785"
      ]
     },
     "execution_count": 20,
     "metadata": {},
     "output_type": "execute_result"
    }
   ],
   "source": [
    "45678+ 9107"
   ]
  },
  {
   "cell_type": "code",
   "execution_count": 21,
   "metadata": {},
   "outputs": [
    {
     "data": {
      "text/plain": [
       "54785"
      ]
     },
     "execution_count": 21,
     "metadata": {},
     "output_type": "execute_result"
    }
   ],
   "source": [
    "47785 + 7000"
   ]
  },
  {
   "cell_type": "code",
   "execution_count": 14,
   "metadata": {},
   "outputs": [],
   "source": [
    "import numpy as np\n",
    "from tqdm import tqdm"
   ]
  },
  {
   "cell_type": "code",
   "execution_count": 15,
   "metadata": {},
   "outputs": [
    {
     "name": "stderr",
     "output_type": "stream",
     "text": [
      "  0%|          | 22/47785 [00:24<14:37:35,  1.10s/it]\n"
     ]
    },
    {
     "ename": "KeyboardInterrupt",
     "evalue": "",
     "output_type": "error",
     "traceback": [
      "\u001b[0;31m---------------------------------------------------------------------------\u001b[0m",
      "\u001b[0;31mKeyboardInterrupt\u001b[0m                         Traceback (most recent call last)",
      "\u001b[1;32m/opt/ml/data/data.ipynb 셀 14\u001b[0m line \u001b[0;36m5\n\u001b[1;32m      <a href='vscode-notebook-cell://ssh-remote%2B10.28.224.137/opt/ml/data/data.ipynb#X15sdnNjb2RlLXJlbW90ZQ%3D%3D?line=2'>3</a>\u001b[0m \u001b[39mfor\u001b[39;00m i \u001b[39min\u001b[39;00m tqdm(\u001b[39mrange\u001b[39m(length_test_df)):\n\u001b[1;32m      <a href='vscode-notebook-cell://ssh-remote%2B10.28.224.137/opt/ml/data/data.ipynb#X15sdnNjb2RlLXJlbW90ZQ%3D%3D?line=3'>4</a>\u001b[0m     \u001b[39mfor\u001b[39;00m j \u001b[39min\u001b[39;00m \u001b[39mrange\u001b[39m(\u001b[39mlen\u001b[39m(concatenated_df)):\n\u001b[0;32m----> <a href='vscode-notebook-cell://ssh-remote%2B10.28.224.137/opt/ml/data/data.ipynb#X15sdnNjb2RlLXJlbW90ZQ%3D%3D?line=4'>5</a>\u001b[0m         \u001b[39mif\u001b[39;00m test_df[\u001b[39m'\u001b[39m\u001b[39mtext\u001b[39m\u001b[39m'\u001b[39m]\u001b[39m.\u001b[39miloc[i] \u001b[39m==\u001b[39m concatenated_df[\u001b[39m'\u001b[39;49m\u001b[39mtitle\u001b[39;49m\u001b[39m'\u001b[39;49m]\u001b[39m.\u001b[39miloc[j]:\n\u001b[1;32m      <a href='vscode-notebook-cell://ssh-remote%2B10.28.224.137/opt/ml/data/data.ipynb#X15sdnNjb2RlLXJlbW90ZQ%3D%3D?line=5'>6</a>\u001b[0m              test_df\u001b[39m.\u001b[39mloc[i, \u001b[39m'\u001b[39m\u001b[39manswer\u001b[39m\u001b[39m'\u001b[39m] \u001b[39m=\u001b[39m concatenated_df[\u001b[39m'\u001b[39m\u001b[39mlabel\u001b[39m\u001b[39m'\u001b[39m]\u001b[39m.\u001b[39miloc[j]\n",
      "File \u001b[0;32m/opt/conda/lib/python3.8/site-packages/pandas/core/frame.py:3718\u001b[0m, in \u001b[0;36mDataFrame.__getitem__\u001b[0;34m(self, key)\u001b[0m\n\u001b[1;32m   3715\u001b[0m key \u001b[39m=\u001b[39m lib\u001b[39m.\u001b[39mitem_from_zerodim(key)\n\u001b[1;32m   3716\u001b[0m key \u001b[39m=\u001b[39m com\u001b[39m.\u001b[39mapply_if_callable(key, \u001b[39mself\u001b[39m)\n\u001b[0;32m-> 3718\u001b[0m \u001b[39mif\u001b[39;00m is_hashable(key) \u001b[39mand\u001b[39;00m \u001b[39mnot\u001b[39;00m is_iterator(key):\n\u001b[1;32m   3719\u001b[0m     \u001b[39m# is_iterator to exclude generator e.g. test_getitem_listlike\u001b[39;00m\n\u001b[1;32m   3720\u001b[0m     \u001b[39m# shortcut if the key is in columns\u001b[39;00m\n\u001b[1;32m   3721\u001b[0m     is_mi \u001b[39m=\u001b[39m \u001b[39misinstance\u001b[39m(\u001b[39mself\u001b[39m\u001b[39m.\u001b[39mcolumns, MultiIndex)\n\u001b[1;32m   3722\u001b[0m     \u001b[39m# GH#45316 Return view if key is not duplicated\u001b[39;00m\n\u001b[1;32m   3723\u001b[0m     \u001b[39m# Only use drop_duplicates with duplicates for performance\u001b[39;00m\n",
      "File \u001b[0;32m/opt/conda/lib/python3.8/site-packages/pandas/core/dtypes/inference.py:360\u001b[0m, in \u001b[0;36mis_hashable\u001b[0;34m(obj)\u001b[0m\n\u001b[1;32m    352\u001b[0m \u001b[39m# Unfortunately, we can't use isinstance(obj, collections.abc.Hashable),\u001b[39;00m\n\u001b[1;32m    353\u001b[0m \u001b[39m# which can be faster than calling hash. That is because numpy scalars\u001b[39;00m\n\u001b[1;32m    354\u001b[0m \u001b[39m# fail this test.\u001b[39;00m\n\u001b[1;32m    355\u001b[0m \n\u001b[1;32m    356\u001b[0m \u001b[39m# Reconsider this decision once this numpy bug is fixed:\u001b[39;00m\n\u001b[1;32m    357\u001b[0m \u001b[39m# https://github.com/numpy/numpy/issues/5562\u001b[39;00m\n\u001b[1;32m    359\u001b[0m \u001b[39mtry\u001b[39;00m:\n\u001b[0;32m--> 360\u001b[0m     \u001b[39mhash\u001b[39m(obj)\n\u001b[1;32m    361\u001b[0m \u001b[39mexcept\u001b[39;00m \u001b[39mTypeError\u001b[39;00m:\n\u001b[1;32m    362\u001b[0m     \u001b[39mreturn\u001b[39;00m \u001b[39mFalse\u001b[39;00m\n",
      "\u001b[0;31mKeyboardInterrupt\u001b[0m: "
     ]
    }
   ],
   "source": [
    "if 'answer' not in test_df.columns:\n",
    "    test_df['answer'] = np.nan\n",
    "for i in tqdm(range(length_test_df)):\n",
    "    for j in range(len(concatenated_df)):\n",
    "        if test_df['text'].iloc[i] == concatenated_df['title'].iloc[j]:\n",
    "             test_df.loc[i, 'answer'] = concatenated_df['label'].iloc[j]\n"
   ]
  },
  {
   "cell_type": "code",
   "execution_count": 16,
   "metadata": {},
   "outputs": [],
   "source": [
    "if 'realtext' not in test_df.columns:\n",
    "    test_df['realtext'] = np.nan"
   ]
  },
  {
   "cell_type": "code",
   "execution_count": 17,
   "metadata": {},
   "outputs": [],
   "source": [
    "title_to_label_dict = concatenated_df.set_index('title')['label'].to_dict()\n",
    "\n",
    "# Map the 'text' column of test_df to this dictionary\n",
    "# .get(text, np.nan) ensures that if text is not found in the dictionary, NaN is returned\n",
    "test_df['answer'] = test_df['text'].map(lambda text: title_to_label_dict.get(text, np.nan))\n",
    "\n",
    "# You can also use progress_apply from tqdm if you want a progress bar, but it's typically not needed with this efficient method\n",
    "# from tqdm.auto import tqdm\n",
    "# tqdm.pandas()\n",
    "# test_df['answer'] = test_df['text'].progress_map(lambda text: title_to_label_dict.get(text, np.nan))\n",
    "\n",
    "\n",
    "\n"
   ]
  },
  {
   "cell_type": "code",
   "execution_count": 18,
   "metadata": {},
   "outputs": [],
   "source": [
    "url_to_title_dict = concatenated_df.set_index('url')['title'].to_dict()\n",
    "\n",
    "test_df['realtext'] = test_df['url'].map(lambda url: url_to_title_dict.get(url, np.nan))"
   ]
  },
  {
   "cell_type": "code",
   "execution_count": 19,
   "metadata": {},
   "outputs": [
    {
     "data": {
      "text/html": [
       "<div>\n",
       "<style scoped>\n",
       "    .dataframe tbody tr th:only-of-type {\n",
       "        vertical-align: middle;\n",
       "    }\n",
       "\n",
       "    .dataframe tbody tr th {\n",
       "        vertical-align: top;\n",
       "    }\n",
       "\n",
       "    .dataframe thead th {\n",
       "        text-align: right;\n",
       "    }\n",
       "</style>\n",
       "<table border=\"1\" class=\"dataframe\">\n",
       "  <thead>\n",
       "    <tr style=\"text-align: right;\">\n",
       "      <th></th>\n",
       "      <th>ID</th>\n",
       "      <th>text</th>\n",
       "      <th>url</th>\n",
       "      <th>date</th>\n",
       "      <th>answer</th>\n",
       "      <th>realtext</th>\n",
       "    </tr>\n",
       "  </thead>\n",
       "  <tbody>\n",
       "    <tr>\n",
       "      <th>0</th>\n",
       "      <td>ynat-v1_dev_00000</td>\n",
       "      <td>제임스 부상 레이커스 성탄매치서 골든스테이트에 완승종합</td>\n",
       "      <td>https://sports.news.naver.com/news.nhn?oid=001...</td>\n",
       "      <td>2018.12.26 15:16</td>\n",
       "      <td>5.0</td>\n",
       "      <td>제임스 부상 레이커스 성탄매치서 골든스테이트에 완승종합</td>\n",
       "    </tr>\n",
       "    <tr>\n",
       "      <th>1</th>\n",
       "      <td>ynat-v1_dev_00001</td>\n",
       "      <td>프랑스 극우정치인 르펜 노란 조끼 덕에 승승장구</td>\n",
       "      <td>https://news.naver.com/main/read.nhn?mode=LS2D...</td>\n",
       "      <td>2019.01.17. 오후 8:04</td>\n",
       "      <td>4.0</td>\n",
       "      <td>프랑스 극우정치인 르펜 노란 조끼 덕에 승승장구</td>\n",
       "    </tr>\n",
       "    <tr>\n",
       "      <th>2</th>\n",
       "      <td>ynat-v1_dev_00002</td>\n",
       "      <td>대통령개헌안 ⑥토지공개념 명시…개발이익환수·부동산과세 강화 전망종합</td>\n",
       "      <td>https://news.naver.com/main/read.nhn?mode=LS2D...</td>\n",
       "      <td>2018.03.21. 오후 1:09</td>\n",
       "      <td>6.0</td>\n",
       "      <td>대통령개헌안 ⑥토지공개념 명시…개발이익환수·부동산과세 강화 전망종합</td>\n",
       "    </tr>\n",
       "    <tr>\n",
       "      <th>3</th>\n",
       "      <td>ynat-v1_dev_00003</td>\n",
       "      <td>의사 살해 환자 경찰서 나와 법원으로</td>\n",
       "      <td>https://news.naver.com/main/read.nhn?mode=LS2D...</td>\n",
       "      <td>2019.01.02. 오후 2:47</td>\n",
       "      <td>2.0</td>\n",
       "      <td>의사 살해 환자 경찰서 나와 법원으로</td>\n",
       "    </tr>\n",
       "    <tr>\n",
       "      <th>4</th>\n",
       "      <td>ynat-v1_dev_00004</td>\n",
       "      <td>이란 최고지도자 유럽 맹비난…핵합의 미이행 뻔뻔하고 오만</td>\n",
       "      <td>https://news.naver.com/main/read.nhn?mode=LS2D...</td>\n",
       "      <td>2019.07.16. 오후 8:11</td>\n",
       "      <td>4.0</td>\n",
       "      <td>이란 최고지도자 유럽 맹비난…핵합의 미이행 뻔뻔하고 오만</td>\n",
       "    </tr>\n",
       "  </tbody>\n",
       "</table>\n",
       "</div>"
      ],
      "text/plain": [
       "                  ID                                   text   \n",
       "0  ynat-v1_dev_00000         제임스 부상 레이커스 성탄매치서 골든스테이트에 완승종합  \\\n",
       "1  ynat-v1_dev_00001             프랑스 극우정치인 르펜 노란 조끼 덕에 승승장구   \n",
       "2  ynat-v1_dev_00002  대통령개헌안 ⑥토지공개념 명시…개발이익환수·부동산과세 강화 전망종합   \n",
       "3  ynat-v1_dev_00003                   의사 살해 환자 경찰서 나와 법원으로   \n",
       "4  ynat-v1_dev_00004        이란 최고지도자 유럽 맹비난…핵합의 미이행 뻔뻔하고 오만   \n",
       "\n",
       "                                                 url                 date   \n",
       "0  https://sports.news.naver.com/news.nhn?oid=001...     2018.12.26 15:16  \\\n",
       "1  https://news.naver.com/main/read.nhn?mode=LS2D...  2019.01.17. 오후 8:04   \n",
       "2  https://news.naver.com/main/read.nhn?mode=LS2D...  2018.03.21. 오후 1:09   \n",
       "3  https://news.naver.com/main/read.nhn?mode=LS2D...  2019.01.02. 오후 2:47   \n",
       "4  https://news.naver.com/main/read.nhn?mode=LS2D...  2019.07.16. 오후 8:11   \n",
       "\n",
       "   answer                               realtext  \n",
       "0     5.0         제임스 부상 레이커스 성탄매치서 골든스테이트에 완승종합  \n",
       "1     4.0             프랑스 극우정치인 르펜 노란 조끼 덕에 승승장구  \n",
       "2     6.0  대통령개헌안 ⑥토지공개념 명시…개발이익환수·부동산과세 강화 전망종합  \n",
       "3     2.0                   의사 살해 환자 경찰서 나와 법원으로  \n",
       "4     4.0        이란 최고지도자 유럽 맹비난…핵합의 미이행 뻔뻔하고 오만  "
      ]
     },
     "execution_count": 19,
     "metadata": {},
     "output_type": "execute_result"
    }
   ],
   "source": [
    "test_df.head()\n"
   ]
  },
  {
   "cell_type": "code",
   "execution_count": 20,
   "metadata": {},
   "outputs": [
    {
     "name": "stdout",
     "output_type": "stream",
     "text": [
      "4616\n"
     ]
    }
   ],
   "source": [
    "nan_values = test_df[test_df['answer'].isna()]\n",
    "print(f\"{len(nan_values)}\")\n",
    "\n"
   ]
  },
  {
   "cell_type": "code",
   "execution_count": 21,
   "metadata": {},
   "outputs": [
    {
     "data": {
      "text/html": [
       "<div>\n",
       "<style scoped>\n",
       "    .dataframe tbody tr th:only-of-type {\n",
       "        vertical-align: middle;\n",
       "    }\n",
       "\n",
       "    .dataframe tbody tr th {\n",
       "        vertical-align: top;\n",
       "    }\n",
       "\n",
       "    .dataframe thead th {\n",
       "        text-align: right;\n",
       "    }\n",
       "</style>\n",
       "<table border=\"1\" class=\"dataframe\">\n",
       "  <thead>\n",
       "    <tr style=\"text-align: right;\">\n",
       "      <th></th>\n",
       "      <th>ID</th>\n",
       "      <th>text</th>\n",
       "      <th>url</th>\n",
       "      <th>date</th>\n",
       "      <th>answer</th>\n",
       "      <th>realtext</th>\n",
       "    </tr>\n",
       "  </thead>\n",
       "  <tbody>\n",
       "    <tr>\n",
       "      <th>16</th>\n",
       "      <td>ynat-v1_dev_00016</td>\n",
       "      <td>미당 문체의 진미 서정주 산문 전짐 네권 발간</td>\n",
       "      <td>https://news.naver.com/main/read.nhn?mode=LS2D...</td>\n",
       "      <td>2017.03.18. 오후 3:00</td>\n",
       "      <td>NaN</td>\n",
       "      <td>미당 문체의 진미 서정주 산문 전집 4권 발간</td>\n",
       "    </tr>\n",
       "    <tr>\n",
       "      <th>18</th>\n",
       "      <td>ynat-v1_dev_00018</td>\n",
       "      <td>오영영호골 러은 메시 팔꿈치 가겨게 멍들고 이도 빠저...</td>\n",
       "      <td>https://sports.news.naver.com/news.nhn?oid=001...</td>\n",
       "      <td>2017.04.24 23:52</td>\n",
       "      <td>NaN</td>\n",
       "      <td>500호골 넣은 메시 팔꿈치 가격에 멍들고 이도 빠져...</td>\n",
       "    </tr>\n",
       "    <tr>\n",
       "      <th>21</th>\n",
       "      <td>ynat-v1_dev_00021</td>\n",
       "      <td>게시파 니중근 부영그루 푀장 용산복찌재다네 이러권 기부</td>\n",
       "      <td>https://news.naver.com/main/read.nhn?mode=LS2D...</td>\n",
       "      <td>2019.01.08. 오전 10:30</td>\n",
       "      <td>NaN</td>\n",
       "      <td>게시판 이중근 부영그룹 회장 용산복지재단에 1억원 기부</td>\n",
       "    </tr>\n",
       "    <tr>\n",
       "      <th>31</th>\n",
       "      <td>ynat-v1_dev_00031</td>\n",
       "      <td>남자배구 대표팀 시보이 라시아선수권 소집…임동혁·진성태 함뉴</td>\n",
       "      <td>https://sports.news.naver.com/news.nhn?oid=001...</td>\n",
       "      <td>2019.08.14 13:37</td>\n",
       "      <td>NaN</td>\n",
       "      <td>남자배구 대표팀 15일 아시아선수권 소집…임동혁·진성태 합류</td>\n",
       "    </tr>\n",
       "    <tr>\n",
       "      <th>33</th>\n",
       "      <td>ynat-v1_dev_00033</td>\n",
       "      <td>또 어리니들부터…열두살 쿠르드 소년 죽꼬 여동생은 다리 절단</td>\n",
       "      <td>https://news.naver.com/main/read.nhn?mode=LS2D...</td>\n",
       "      <td>2019.10.11. 오후 4:25</td>\n",
       "      <td>NaN</td>\n",
       "      <td>또 어린이들부터…12살 쿠르드 소년 죽고 여동생은 다리 절단</td>\n",
       "    </tr>\n",
       "  </tbody>\n",
       "</table>\n",
       "</div>"
      ],
      "text/plain": [
       "                   ID                               text   \n",
       "16  ynat-v1_dev_00016          미당 문체의 진미 서정주 산문 전짐 네권 발간  \\\n",
       "18  ynat-v1_dev_00018   오영영호골 러은 메시 팔꿈치 가겨게 멍들고 이도 빠저...   \n",
       "21  ynat-v1_dev_00021     게시파 니중근 부영그루 푀장 용산복찌재다네 이러권 기부   \n",
       "31  ynat-v1_dev_00031  남자배구 대표팀 시보이 라시아선수권 소집…임동혁·진성태 함뉴   \n",
       "33  ynat-v1_dev_00033  또 어리니들부터…열두살 쿠르드 소년 죽꼬 여동생은 다리 절단   \n",
       "\n",
       "                                                  url                  date   \n",
       "16  https://news.naver.com/main/read.nhn?mode=LS2D...   2017.03.18. 오후 3:00  \\\n",
       "18  https://sports.news.naver.com/news.nhn?oid=001...      2017.04.24 23:52   \n",
       "21  https://news.naver.com/main/read.nhn?mode=LS2D...  2019.01.08. 오전 10:30   \n",
       "31  https://sports.news.naver.com/news.nhn?oid=001...      2019.08.14 13:37   \n",
       "33  https://news.naver.com/main/read.nhn?mode=LS2D...   2019.10.11. 오후 4:25   \n",
       "\n",
       "    answer                           realtext  \n",
       "16     NaN          미당 문체의 진미 서정주 산문 전집 4권 발간  \n",
       "18     NaN   500호골 넣은 메시 팔꿈치 가격에 멍들고 이도 빠져...  \n",
       "21     NaN     게시판 이중근 부영그룹 회장 용산복지재단에 1억원 기부  \n",
       "31     NaN  남자배구 대표팀 15일 아시아선수권 소집…임동혁·진성태 합류  \n",
       "33     NaN  또 어린이들부터…12살 쿠르드 소년 죽고 여동생은 다리 절단  "
      ]
     },
     "execution_count": 21,
     "metadata": {},
     "output_type": "execute_result"
    }
   ],
   "source": [
    "nan_values.head()"
   ]
  },
  {
   "cell_type": "code",
   "execution_count": 22,
   "metadata": {},
   "outputs": [],
   "source": [
    "nan_values[['ID','text','realtext','url','date']].to_csv('./nan_values.csv', index=False)\n"
   ]
  },
  {
   "cell_type": "code",
   "execution_count": 26,
   "metadata": {},
   "outputs": [
    {
     "data": {
      "text/html": [
       "<div>\n",
       "<style scoped>\n",
       "    .dataframe tbody tr th:only-of-type {\n",
       "        vertical-align: middle;\n",
       "    }\n",
       "\n",
       "    .dataframe tbody tr th {\n",
       "        vertical-align: top;\n",
       "    }\n",
       "\n",
       "    .dataframe thead th {\n",
       "        text-align: right;\n",
       "    }\n",
       "</style>\n",
       "<table border=\"1\" class=\"dataframe\">\n",
       "  <thead>\n",
       "    <tr style=\"text-align: right;\">\n",
       "      <th></th>\n",
       "      <th>ID</th>\n",
       "      <th>text</th>\n",
       "      <th>url</th>\n",
       "      <th>date</th>\n",
       "      <th>answer</th>\n",
       "      <th>realtext</th>\n",
       "    </tr>\n",
       "  </thead>\n",
       "  <tbody>\n",
       "    <tr>\n",
       "      <th>0</th>\n",
       "      <td>ynat-v1_dev_00000</td>\n",
       "      <td>제임스 부상 레이커스 성탄매치서 골든스테이트에 완승종합</td>\n",
       "      <td>https://sports.news.naver.com/news.nhn?oid=001...</td>\n",
       "      <td>2018.12.26 15:16</td>\n",
       "      <td>5.0</td>\n",
       "      <td>제임스 부상 레이커스 성탄매치서 골든스테이트에 완승종합</td>\n",
       "    </tr>\n",
       "    <tr>\n",
       "      <th>1</th>\n",
       "      <td>ynat-v1_dev_00001</td>\n",
       "      <td>프랑스 극우정치인 르펜 노란 조끼 덕에 승승장구</td>\n",
       "      <td>https://news.naver.com/main/read.nhn?mode=LS2D...</td>\n",
       "      <td>2019.01.17. 오후 8:04</td>\n",
       "      <td>4.0</td>\n",
       "      <td>프랑스 극우정치인 르펜 노란 조끼 덕에 승승장구</td>\n",
       "    </tr>\n",
       "    <tr>\n",
       "      <th>2</th>\n",
       "      <td>ynat-v1_dev_00002</td>\n",
       "      <td>대통령개헌안 ⑥토지공개념 명시…개발이익환수·부동산과세 강화 전망종합</td>\n",
       "      <td>https://news.naver.com/main/read.nhn?mode=LS2D...</td>\n",
       "      <td>2018.03.21. 오후 1:09</td>\n",
       "      <td>6.0</td>\n",
       "      <td>대통령개헌안 ⑥토지공개념 명시…개발이익환수·부동산과세 강화 전망종합</td>\n",
       "    </tr>\n",
       "    <tr>\n",
       "      <th>3</th>\n",
       "      <td>ynat-v1_dev_00003</td>\n",
       "      <td>의사 살해 환자 경찰서 나와 법원으로</td>\n",
       "      <td>https://news.naver.com/main/read.nhn?mode=LS2D...</td>\n",
       "      <td>2019.01.02. 오후 2:47</td>\n",
       "      <td>2.0</td>\n",
       "      <td>의사 살해 환자 경찰서 나와 법원으로</td>\n",
       "    </tr>\n",
       "    <tr>\n",
       "      <th>4</th>\n",
       "      <td>ynat-v1_dev_00004</td>\n",
       "      <td>이란 최고지도자 유럽 맹비난…핵합의 미이행 뻔뻔하고 오만</td>\n",
       "      <td>https://news.naver.com/main/read.nhn?mode=LS2D...</td>\n",
       "      <td>2019.07.16. 오후 8:11</td>\n",
       "      <td>4.0</td>\n",
       "      <td>이란 최고지도자 유럽 맹비난…핵합의 미이행 뻔뻔하고 오만</td>\n",
       "    </tr>\n",
       "  </tbody>\n",
       "</table>\n",
       "</div>"
      ],
      "text/plain": [
       "                  ID                                   text   \n",
       "0  ynat-v1_dev_00000         제임스 부상 레이커스 성탄매치서 골든스테이트에 완승종합  \\\n",
       "1  ynat-v1_dev_00001             프랑스 극우정치인 르펜 노란 조끼 덕에 승승장구   \n",
       "2  ynat-v1_dev_00002  대통령개헌안 ⑥토지공개념 명시…개발이익환수·부동산과세 강화 전망종합   \n",
       "3  ynat-v1_dev_00003                   의사 살해 환자 경찰서 나와 법원으로   \n",
       "4  ynat-v1_dev_00004        이란 최고지도자 유럽 맹비난…핵합의 미이행 뻔뻔하고 오만   \n",
       "\n",
       "                                                 url                 date   \n",
       "0  https://sports.news.naver.com/news.nhn?oid=001...     2018.12.26 15:16  \\\n",
       "1  https://news.naver.com/main/read.nhn?mode=LS2D...  2019.01.17. 오후 8:04   \n",
       "2  https://news.naver.com/main/read.nhn?mode=LS2D...  2018.03.21. 오후 1:09   \n",
       "3  https://news.naver.com/main/read.nhn?mode=LS2D...  2019.01.02. 오후 2:47   \n",
       "4  https://news.naver.com/main/read.nhn?mode=LS2D...  2019.07.16. 오후 8:11   \n",
       "\n",
       "   answer                               realtext  \n",
       "0     5.0         제임스 부상 레이커스 성탄매치서 골든스테이트에 완승종합  \n",
       "1     4.0             프랑스 극우정치인 르펜 노란 조끼 덕에 승승장구  \n",
       "2     6.0  대통령개헌안 ⑥토지공개념 명시…개발이익환수·부동산과세 강화 전망종합  \n",
       "3     2.0                   의사 살해 환자 경찰서 나와 법원으로  \n",
       "4     4.0        이란 최고지도자 유럽 맹비난…핵합의 미이행 뻔뻔하고 오만  "
      ]
     },
     "execution_count": 26,
     "metadata": {},
     "output_type": "execute_result"
    }
   ],
   "source": [
    "test_df.head()"
   ]
  },
  {
   "cell_type": "code",
   "execution_count": 25,
   "metadata": {},
   "outputs": [
    {
     "ename": "IntCastingNaNError",
     "evalue": "Cannot convert non-finite values (NA or inf) to integer",
     "output_type": "error",
     "traceback": [
      "\u001b[0;31m---------------------------------------------------------------------------\u001b[0m",
      "\u001b[0;31mIntCastingNaNError\u001b[0m                        Traceback (most recent call last)",
      "\u001b[1;32m/opt/ml/data/data.ipynb 셀 22\u001b[0m line \u001b[0;36m1\n\u001b[0;32m----> <a href='vscode-notebook-cell://ssh-remote%2B10.28.224.137/opt/ml/data/data.ipynb#X26sdnNjb2RlLXJlbW90ZQ%3D%3D?line=0'>1</a>\u001b[0m test_df[\u001b[39m'\u001b[39m\u001b[39manswer\u001b[39m\u001b[39m'\u001b[39m] \u001b[39m=\u001b[39m test_df[\u001b[39m'\u001b[39;49m\u001b[39manswer\u001b[39;49m\u001b[39m'\u001b[39;49m]\u001b[39m.\u001b[39;49mastype(\u001b[39mint\u001b[39;49m)\n\u001b[1;32m      <a href='vscode-notebook-cell://ssh-remote%2B10.28.224.137/opt/ml/data/data.ipynb#X26sdnNjb2RlLXJlbW90ZQ%3D%3D?line=1'>2</a>\u001b[0m test_df[[\u001b[39m'\u001b[39m\u001b[39mID\u001b[39m\u001b[39m'\u001b[39m, \u001b[39m'\u001b[39m\u001b[39manswer\u001b[39m\u001b[39m'\u001b[39m, \u001b[39m'\u001b[39m\u001b[39mtext\u001b[39m\u001b[39m'\u001b[39m, \u001b[39m'\u001b[39m\u001b[39murl\u001b[39m\u001b[39m'\u001b[39m]]\u001b[39m.\u001b[39mto_csv(\u001b[39m'\u001b[39m\u001b[39manswer.csv\u001b[39m\u001b[39m'\u001b[39m, index\u001b[39m=\u001b[39m\u001b[39mFalse\u001b[39;00m)\n",
      "File \u001b[0;32m/opt/conda/lib/python3.8/site-packages/pandas/core/generic.py:6324\u001b[0m, in \u001b[0;36mNDFrame.astype\u001b[0;34m(self, dtype, copy, errors)\u001b[0m\n\u001b[1;32m   6317\u001b[0m     results \u001b[39m=\u001b[39m [\n\u001b[1;32m   6318\u001b[0m         \u001b[39mself\u001b[39m\u001b[39m.\u001b[39miloc[:, i]\u001b[39m.\u001b[39mastype(dtype, copy\u001b[39m=\u001b[39mcopy)\n\u001b[1;32m   6319\u001b[0m         \u001b[39mfor\u001b[39;00m i \u001b[39min\u001b[39;00m \u001b[39mrange\u001b[39m(\u001b[39mlen\u001b[39m(\u001b[39mself\u001b[39m\u001b[39m.\u001b[39mcolumns))\n\u001b[1;32m   6320\u001b[0m     ]\n\u001b[1;32m   6322\u001b[0m \u001b[39melse\u001b[39;00m:\n\u001b[1;32m   6323\u001b[0m     \u001b[39m# else, only a single dtype is given\u001b[39;00m\n\u001b[0;32m-> 6324\u001b[0m     new_data \u001b[39m=\u001b[39m \u001b[39mself\u001b[39;49m\u001b[39m.\u001b[39;49m_mgr\u001b[39m.\u001b[39;49mastype(dtype\u001b[39m=\u001b[39;49mdtype, copy\u001b[39m=\u001b[39;49mcopy, errors\u001b[39m=\u001b[39;49merrors)\n\u001b[1;32m   6325\u001b[0m     \u001b[39mreturn\u001b[39;00m \u001b[39mself\u001b[39m\u001b[39m.\u001b[39m_constructor(new_data)\u001b[39m.\u001b[39m__finalize__(\u001b[39mself\u001b[39m, method\u001b[39m=\u001b[39m\u001b[39m\"\u001b[39m\u001b[39mastype\u001b[39m\u001b[39m\"\u001b[39m)\n\u001b[1;32m   6327\u001b[0m \u001b[39m# GH 33113: handle empty frame or series\u001b[39;00m\n",
      "File \u001b[0;32m/opt/conda/lib/python3.8/site-packages/pandas/core/internals/managers.py:451\u001b[0m, in \u001b[0;36mBaseBlockManager.astype\u001b[0;34m(self, dtype, copy, errors)\u001b[0m\n\u001b[1;32m    448\u001b[0m \u001b[39melif\u001b[39;00m using_copy_on_write():\n\u001b[1;32m    449\u001b[0m     copy \u001b[39m=\u001b[39m \u001b[39mFalse\u001b[39;00m\n\u001b[0;32m--> 451\u001b[0m \u001b[39mreturn\u001b[39;00m \u001b[39mself\u001b[39;49m\u001b[39m.\u001b[39;49mapply(\n\u001b[1;32m    452\u001b[0m     \u001b[39m\"\u001b[39;49m\u001b[39mastype\u001b[39;49m\u001b[39m\"\u001b[39;49m,\n\u001b[1;32m    453\u001b[0m     dtype\u001b[39m=\u001b[39;49mdtype,\n\u001b[1;32m    454\u001b[0m     copy\u001b[39m=\u001b[39;49mcopy,\n\u001b[1;32m    455\u001b[0m     errors\u001b[39m=\u001b[39;49merrors,\n\u001b[1;32m    456\u001b[0m     using_cow\u001b[39m=\u001b[39;49musing_copy_on_write(),\n\u001b[1;32m    457\u001b[0m )\n",
      "File \u001b[0;32m/opt/conda/lib/python3.8/site-packages/pandas/core/internals/managers.py:352\u001b[0m, in \u001b[0;36mBaseBlockManager.apply\u001b[0;34m(self, f, align_keys, **kwargs)\u001b[0m\n\u001b[1;32m    350\u001b[0m         applied \u001b[39m=\u001b[39m b\u001b[39m.\u001b[39mapply(f, \u001b[39m*\u001b[39m\u001b[39m*\u001b[39mkwargs)\n\u001b[1;32m    351\u001b[0m     \u001b[39melse\u001b[39;00m:\n\u001b[0;32m--> 352\u001b[0m         applied \u001b[39m=\u001b[39m \u001b[39mgetattr\u001b[39;49m(b, f)(\u001b[39m*\u001b[39;49m\u001b[39m*\u001b[39;49mkwargs)\n\u001b[1;32m    353\u001b[0m     result_blocks \u001b[39m=\u001b[39m extend_blocks(applied, result_blocks)\n\u001b[1;32m    355\u001b[0m out \u001b[39m=\u001b[39m \u001b[39mtype\u001b[39m(\u001b[39mself\u001b[39m)\u001b[39m.\u001b[39mfrom_blocks(result_blocks, \u001b[39mself\u001b[39m\u001b[39m.\u001b[39maxes)\n",
      "File \u001b[0;32m/opt/conda/lib/python3.8/site-packages/pandas/core/internals/blocks.py:511\u001b[0m, in \u001b[0;36mBlock.astype\u001b[0;34m(self, dtype, copy, errors, using_cow)\u001b[0m\n\u001b[1;32m    491\u001b[0m \u001b[39m\"\"\"\u001b[39;00m\n\u001b[1;32m    492\u001b[0m \u001b[39mCoerce to the new dtype.\u001b[39;00m\n\u001b[1;32m    493\u001b[0m \n\u001b[0;32m   (...)\u001b[0m\n\u001b[1;32m    507\u001b[0m \u001b[39mBlock\u001b[39;00m\n\u001b[1;32m    508\u001b[0m \u001b[39m\"\"\"\u001b[39;00m\n\u001b[1;32m    509\u001b[0m values \u001b[39m=\u001b[39m \u001b[39mself\u001b[39m\u001b[39m.\u001b[39mvalues\n\u001b[0;32m--> 511\u001b[0m new_values \u001b[39m=\u001b[39m astype_array_safe(values, dtype, copy\u001b[39m=\u001b[39;49mcopy, errors\u001b[39m=\u001b[39;49merrors)\n\u001b[1;32m    513\u001b[0m new_values \u001b[39m=\u001b[39m maybe_coerce_values(new_values)\n\u001b[1;32m    515\u001b[0m refs \u001b[39m=\u001b[39m \u001b[39mNone\u001b[39;00m\n",
      "File \u001b[0;32m/opt/conda/lib/python3.8/site-packages/pandas/core/dtypes/astype.py:242\u001b[0m, in \u001b[0;36mastype_array_safe\u001b[0;34m(values, dtype, copy, errors)\u001b[0m\n\u001b[1;32m    239\u001b[0m     dtype \u001b[39m=\u001b[39m dtype\u001b[39m.\u001b[39mnumpy_dtype\n\u001b[1;32m    241\u001b[0m \u001b[39mtry\u001b[39;00m:\n\u001b[0;32m--> 242\u001b[0m     new_values \u001b[39m=\u001b[39m astype_array(values, dtype, copy\u001b[39m=\u001b[39;49mcopy)\n\u001b[1;32m    243\u001b[0m \u001b[39mexcept\u001b[39;00m (\u001b[39mValueError\u001b[39;00m, \u001b[39mTypeError\u001b[39;00m):\n\u001b[1;32m    244\u001b[0m     \u001b[39m# e.g. _astype_nansafe can fail on object-dtype of strings\u001b[39;00m\n\u001b[1;32m    245\u001b[0m     \u001b[39m#  trying to convert to float\u001b[39;00m\n\u001b[1;32m    246\u001b[0m     \u001b[39mif\u001b[39;00m errors \u001b[39m==\u001b[39m \u001b[39m\"\u001b[39m\u001b[39mignore\u001b[39m\u001b[39m\"\u001b[39m:\n",
      "File \u001b[0;32m/opt/conda/lib/python3.8/site-packages/pandas/core/dtypes/astype.py:187\u001b[0m, in \u001b[0;36mastype_array\u001b[0;34m(values, dtype, copy)\u001b[0m\n\u001b[1;32m    184\u001b[0m     values \u001b[39m=\u001b[39m values\u001b[39m.\u001b[39mastype(dtype, copy\u001b[39m=\u001b[39mcopy)\n\u001b[1;32m    186\u001b[0m \u001b[39melse\u001b[39;00m:\n\u001b[0;32m--> 187\u001b[0m     values \u001b[39m=\u001b[39m _astype_nansafe(values, dtype, copy\u001b[39m=\u001b[39;49mcopy)\n\u001b[1;32m    189\u001b[0m \u001b[39m# in pandas we don't store numpy str dtypes, so convert to object\u001b[39;00m\n\u001b[1;32m    190\u001b[0m \u001b[39mif\u001b[39;00m \u001b[39misinstance\u001b[39m(dtype, np\u001b[39m.\u001b[39mdtype) \u001b[39mand\u001b[39;00m \u001b[39missubclass\u001b[39m(values\u001b[39m.\u001b[39mdtype\u001b[39m.\u001b[39mtype, \u001b[39mstr\u001b[39m):\n",
      "File \u001b[0;32m/opt/conda/lib/python3.8/site-packages/pandas/core/dtypes/astype.py:105\u001b[0m, in \u001b[0;36m_astype_nansafe\u001b[0;34m(arr, dtype, copy, skipna)\u001b[0m\n\u001b[1;32m    100\u001b[0m     \u001b[39mreturn\u001b[39;00m lib\u001b[39m.\u001b[39mensure_string_array(\n\u001b[1;32m    101\u001b[0m         arr, skipna\u001b[39m=\u001b[39mskipna, convert_na_value\u001b[39m=\u001b[39m\u001b[39mFalse\u001b[39;00m\n\u001b[1;32m    102\u001b[0m     )\u001b[39m.\u001b[39mreshape(shape)\n\u001b[1;32m    104\u001b[0m \u001b[39melif\u001b[39;00m np\u001b[39m.\u001b[39missubdtype(arr\u001b[39m.\u001b[39mdtype, np\u001b[39m.\u001b[39mfloating) \u001b[39mand\u001b[39;00m is_integer_dtype(dtype):\n\u001b[0;32m--> 105\u001b[0m     \u001b[39mreturn\u001b[39;00m _astype_float_to_int_nansafe(arr, dtype, copy)\n\u001b[1;32m    107\u001b[0m \u001b[39melif\u001b[39;00m is_object_dtype(arr\u001b[39m.\u001b[39mdtype):\n\u001b[1;32m    108\u001b[0m     \u001b[39m# if we have a datetime/timedelta array of objects\u001b[39;00m\n\u001b[1;32m    109\u001b[0m     \u001b[39m# then coerce to datetime64[ns] and use DatetimeArray.astype\u001b[39;00m\n\u001b[1;32m    111\u001b[0m     \u001b[39mif\u001b[39;00m is_datetime64_dtype(dtype):\n",
      "File \u001b[0;32m/opt/conda/lib/python3.8/site-packages/pandas/core/dtypes/astype.py:150\u001b[0m, in \u001b[0;36m_astype_float_to_int_nansafe\u001b[0;34m(values, dtype, copy)\u001b[0m\n\u001b[1;32m    146\u001b[0m \u001b[39m\"\"\"\u001b[39;00m\n\u001b[1;32m    147\u001b[0m \u001b[39mastype with a check preventing converting NaN to an meaningless integer value.\u001b[39;00m\n\u001b[1;32m    148\u001b[0m \u001b[39m\"\"\"\u001b[39;00m\n\u001b[1;32m    149\u001b[0m \u001b[39mif\u001b[39;00m \u001b[39mnot\u001b[39;00m np\u001b[39m.\u001b[39misfinite(values)\u001b[39m.\u001b[39mall():\n\u001b[0;32m--> 150\u001b[0m     \u001b[39mraise\u001b[39;00m IntCastingNaNError(\n\u001b[1;32m    151\u001b[0m         \u001b[39m\"\u001b[39m\u001b[39mCannot convert non-finite values (NA or inf) to integer\u001b[39m\u001b[39m\"\u001b[39m\n\u001b[1;32m    152\u001b[0m     )\n\u001b[1;32m    153\u001b[0m \u001b[39mif\u001b[39;00m dtype\u001b[39m.\u001b[39mkind \u001b[39m==\u001b[39m \u001b[39m\"\u001b[39m\u001b[39mu\u001b[39m\u001b[39m\"\u001b[39m:\n\u001b[1;32m    154\u001b[0m     \u001b[39m# GH#45151\u001b[39;00m\n\u001b[1;32m    155\u001b[0m     \u001b[39mif\u001b[39;00m \u001b[39mnot\u001b[39;00m (values \u001b[39m>\u001b[39m\u001b[39m=\u001b[39m \u001b[39m0\u001b[39m)\u001b[39m.\u001b[39mall():\n",
      "\u001b[0;31mIntCastingNaNError\u001b[0m: Cannot convert non-finite values (NA or inf) to integer"
     ]
    }
   ],
   "source": [
    "test_df['answer'] = test_df['answer'].astype(int)\n",
    "test_df[['ID', 'answer', 'text', 'url']].to_csv('answer.csv', index=False)\n"
   ]
  },
  {
   "cell_type": "code",
   "execution_count": 27,
   "metadata": {},
   "outputs": [],
   "source": [
    "title_to_label_dict = concatenated_df.set_index('url')['label'].to_dict()\n",
    "\n",
    "# Map the 'text' column of test_df to this dictionary\n",
    "# .get(text, np.nan) ensures that if text is not found in the dictionary, NaN is returned\n",
    "test_df['answer'] = test_df['url'].map(lambda text: title_to_label_dict.get(text, np.nan))\n",
    "\n",
    "# You can also use progress_apply from tqdm if you want a progress bar, but it's typically not needed with this efficient method\n",
    "# from tqdm.auto import tqdm\n",
    "# tqdm.pandas()\n",
    "# test_df['answer'] = test_df['text'].progress_map(lambda text: title_to_label_dict.get(text, np.nan))\n",
    "\n",
    "\n",
    "\n"
   ]
  },
  {
   "cell_type": "code",
   "execution_count": 28,
   "metadata": {},
   "outputs": [
    {
     "data": {
      "text/html": [
       "<div>\n",
       "<style scoped>\n",
       "    .dataframe tbody tr th:only-of-type {\n",
       "        vertical-align: middle;\n",
       "    }\n",
       "\n",
       "    .dataframe tbody tr th {\n",
       "        vertical-align: top;\n",
       "    }\n",
       "\n",
       "    .dataframe thead th {\n",
       "        text-align: right;\n",
       "    }\n",
       "</style>\n",
       "<table border=\"1\" class=\"dataframe\">\n",
       "  <thead>\n",
       "    <tr style=\"text-align: right;\">\n",
       "      <th></th>\n",
       "      <th>ID</th>\n",
       "      <th>text</th>\n",
       "      <th>url</th>\n",
       "      <th>date</th>\n",
       "      <th>answer</th>\n",
       "      <th>realtext</th>\n",
       "    </tr>\n",
       "  </thead>\n",
       "  <tbody>\n",
       "    <tr>\n",
       "      <th>0</th>\n",
       "      <td>ynat-v1_dev_00000</td>\n",
       "      <td>제임스 부상 레이커스 성탄매치서 골든스테이트에 완승종합</td>\n",
       "      <td>https://sports.news.naver.com/news.nhn?oid=001...</td>\n",
       "      <td>2018.12.26 15:16</td>\n",
       "      <td>5</td>\n",
       "      <td>제임스 부상 레이커스 성탄매치서 골든스테이트에 완승종합</td>\n",
       "    </tr>\n",
       "    <tr>\n",
       "      <th>1</th>\n",
       "      <td>ynat-v1_dev_00001</td>\n",
       "      <td>프랑스 극우정치인 르펜 노란 조끼 덕에 승승장구</td>\n",
       "      <td>https://news.naver.com/main/read.nhn?mode=LS2D...</td>\n",
       "      <td>2019.01.17. 오후 8:04</td>\n",
       "      <td>4</td>\n",
       "      <td>프랑스 극우정치인 르펜 노란 조끼 덕에 승승장구</td>\n",
       "    </tr>\n",
       "    <tr>\n",
       "      <th>2</th>\n",
       "      <td>ynat-v1_dev_00002</td>\n",
       "      <td>대통령개헌안 ⑥토지공개념 명시…개발이익환수·부동산과세 강화 전망종합</td>\n",
       "      <td>https://news.naver.com/main/read.nhn?mode=LS2D...</td>\n",
       "      <td>2018.03.21. 오후 1:09</td>\n",
       "      <td>6</td>\n",
       "      <td>대통령개헌안 ⑥토지공개념 명시…개발이익환수·부동산과세 강화 전망종합</td>\n",
       "    </tr>\n",
       "    <tr>\n",
       "      <th>3</th>\n",
       "      <td>ynat-v1_dev_00003</td>\n",
       "      <td>의사 살해 환자 경찰서 나와 법원으로</td>\n",
       "      <td>https://news.naver.com/main/read.nhn?mode=LS2D...</td>\n",
       "      <td>2019.01.02. 오후 2:47</td>\n",
       "      <td>2</td>\n",
       "      <td>의사 살해 환자 경찰서 나와 법원으로</td>\n",
       "    </tr>\n",
       "    <tr>\n",
       "      <th>4</th>\n",
       "      <td>ynat-v1_dev_00004</td>\n",
       "      <td>이란 최고지도자 유럽 맹비난…핵합의 미이행 뻔뻔하고 오만</td>\n",
       "      <td>https://news.naver.com/main/read.nhn?mode=LS2D...</td>\n",
       "      <td>2019.07.16. 오후 8:11</td>\n",
       "      <td>4</td>\n",
       "      <td>이란 최고지도자 유럽 맹비난…핵합의 미이행 뻔뻔하고 오만</td>\n",
       "    </tr>\n",
       "  </tbody>\n",
       "</table>\n",
       "</div>"
      ],
      "text/plain": [
       "                  ID                                   text   \n",
       "0  ynat-v1_dev_00000         제임스 부상 레이커스 성탄매치서 골든스테이트에 완승종합  \\\n",
       "1  ynat-v1_dev_00001             프랑스 극우정치인 르펜 노란 조끼 덕에 승승장구   \n",
       "2  ynat-v1_dev_00002  대통령개헌안 ⑥토지공개념 명시…개발이익환수·부동산과세 강화 전망종합   \n",
       "3  ynat-v1_dev_00003                   의사 살해 환자 경찰서 나와 법원으로   \n",
       "4  ynat-v1_dev_00004        이란 최고지도자 유럽 맹비난…핵합의 미이행 뻔뻔하고 오만   \n",
       "\n",
       "                                                 url                 date   \n",
       "0  https://sports.news.naver.com/news.nhn?oid=001...     2018.12.26 15:16  \\\n",
       "1  https://news.naver.com/main/read.nhn?mode=LS2D...  2019.01.17. 오후 8:04   \n",
       "2  https://news.naver.com/main/read.nhn?mode=LS2D...  2018.03.21. 오후 1:09   \n",
       "3  https://news.naver.com/main/read.nhn?mode=LS2D...  2019.01.02. 오후 2:47   \n",
       "4  https://news.naver.com/main/read.nhn?mode=LS2D...  2019.07.16. 오후 8:11   \n",
       "\n",
       "   answer                               realtext  \n",
       "0       5         제임스 부상 레이커스 성탄매치서 골든스테이트에 완승종합  \n",
       "1       4             프랑스 극우정치인 르펜 노란 조끼 덕에 승승장구  \n",
       "2       6  대통령개헌안 ⑥토지공개념 명시…개발이익환수·부동산과세 강화 전망종합  \n",
       "3       2                   의사 살해 환자 경찰서 나와 법원으로  \n",
       "4       4        이란 최고지도자 유럽 맹비난…핵합의 미이행 뻔뻔하고 오만  "
      ]
     },
     "execution_count": 28,
     "metadata": {},
     "output_type": "execute_result"
    }
   ],
   "source": [
    "test_df.head()"
   ]
  },
  {
   "cell_type": "code",
   "execution_count": 29,
   "metadata": {},
   "outputs": [
    {
     "ename": "",
     "evalue": "",
     "output_type": "error",
     "traceback": [
      "\u001b[1;31m현재 셀 또는 이전 셀에서 코드를 실행하는 동안 Kernel이 충돌했습니다. 셀의 코드를 검토하여 오류의 가능한 원인을 식별하세요. 자세한 내용을 보려면 <a href='https://aka.ms/vscodeJupyterKernelCrash'> 여기 </a> 를 클릭하세요. 자세한 내용은 Jupyter <a href='command:jupyter.viewOutput'>로그</a>를 참조하세요."
     ]
    }
   ],
   "source": [
    "test_df[['ID', 'answer', 'text', 'url']].to_csv('answer.csv', index=False)\n"
   ]
  },
  {
   "cell_type": "code",
   "execution_count": null,
   "metadata": {},
   "outputs": [],
   "source": []
  }
 ],
 "metadata": {
  "kernelspec": {
   "display_name": "base",
   "language": "python",
   "name": "python3"
  },
  "language_info": {
   "codemirror_mode": {
    "name": "ipython",
    "version": 3
   },
   "file_extension": ".py",
   "mimetype": "text/x-python",
   "name": "python",
   "nbconvert_exporter": "python",
   "pygments_lexer": "ipython3",
   "version": "3.8.5"
  }
 },
 "nbformat": 4,
 "nbformat_minor": 2
}
