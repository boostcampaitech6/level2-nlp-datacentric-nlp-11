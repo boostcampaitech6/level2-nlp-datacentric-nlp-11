{
 "cells": [
  {
   "cell_type": "code",
   "execution_count": 1,
   "metadata": {},
   "outputs": [],
   "source": [
    "\n",
    "import pandas as pd\n",
    "import re\n",
    "from tqdm import tqdm\n",
    "\n",
    "data = pd.read_csv('/opt/ml/data/train.csv')\n",
    "\n",
    "special_dict = {'↑' : ' 증가', '↓' : ' 감소', '→' : '에서 ', '↔' : ', ', '…' : ', ', '...' : '.', '㎡' : ' 평', '㎛' : 'mm', '㎜' : 'mm', '㎝' : 'mm', '㎞' : 'm', '  ' : ' '}\n",
    "special_str = ':,%?!·~.'\n",
    "\n",
    "pattern = re.compile(r'[^가-힣a-zA-Z一-龥0-9:,%?!·~. ]')\n",
    "\n",
    "def clean_text(sent):\n",
    "    for k, v in special_dict.items():\n",
    "        sent = sent.replace(k, v)\n",
    "    sent = pattern.sub('', sent)\n",
    "    return sent\n",
    "\n",
    "# data['text'] = data['text'].apply(clean_text)\n"
   ]
  },
  {
   "cell_type": "code",
   "execution_count": 2,
   "metadata": {},
   "outputs": [
    {
     "data": {
      "text/plain": [
       "'이승우의 미술 이야기 우리가 알아야 할 색채 '"
      ]
     },
     "execution_count": 2,
     "metadata": {},
     "output_type": "execute_result"
    }
   ],
   "source": [
    "clean_text(\"[이승우의 미술 이야기] 우리가 알아야 할 색채 ⑥\")"
   ]
  },
  {
   "cell_type": "code",
   "execution_count": null,
   "metadata": {},
   "outputs": [],
   "source": []
  }
 ],
 "metadata": {
  "kernelspec": {
   "display_name": "base",
   "language": "python",
   "name": "python3"
  },
  "language_info": {
   "codemirror_mode": {
    "name": "ipython",
    "version": 3
   },
   "file_extension": ".py",
   "mimetype": "text/x-python",
   "name": "python",
   "nbconvert_exporter": "python",
   "pygments_lexer": "ipython3",
   "version": "3.8.5"
  }
 },
 "nbformat": 4,
 "nbformat_minor": 2
}
