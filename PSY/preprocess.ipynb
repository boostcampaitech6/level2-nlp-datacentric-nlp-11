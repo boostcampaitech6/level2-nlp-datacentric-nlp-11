{
 "cells": [
  {
   "cell_type": "markdown",
   "metadata": {},
   "source": [
    "### 타이틀 끝에 붙는 ~종합, ~종합n보 일괄 삭제"
   ]
  },
  {
   "cell_type": "code",
   "execution_count": 6,
   "metadata": {},
   "outputs": [
    {
     "name": "stdout",
     "output_type": "stream",
     "text": [
      "Original Title: 중국 무역전쟁 속 최대 이벤트 양회 개막종합2보\n",
      "Cleaned Title: 중국 무역전쟁 속 최대 이벤트 양회 개막\n"
     ]
    }
   ],
   "source": [
    "def preprocess_article_title(title):\n",
    "    # Check if the title ends with \"~\" and a suffix\n",
    "    if '종합' in title[-4:]:\n",
    "        last_space_index = title.rfind('종합')\n",
    "        # print(\"Index of the last space:\", title[:last_space_index])\n",
    "        cleaned_title = title[:last_space_index]\n",
    "\n",
    "        return cleaned_title\n",
    "    else:\n",
    "        return title\n",
    "\n",
    "# Example usage:\n",
    "article_title = \"중국 무역전쟁 속 최대 이벤트 양회 개막종합2보\"\n",
    "cleaned_title = preprocess_article_title(article_title)\n",
    "\n",
    "print(\"Original Title:\", article_title)\n",
    "print(\"Cleaned Title:\", cleaned_title)"
   ]
  },
  {
   "cell_type": "markdown",
   "metadata": {},
   "source": [
    "### 한자 -> 한글 변환"
   ]
  },
  {
   "cell_type": "code",
   "execution_count": null,
   "metadata": {},
   "outputs": [],
   "source": [
    "import hanja, re\n",
    "from hanja import hangul\n",
    "\n",
    "is_hanja = []\n",
    "hanja_to_korean = []\n",
    "for idx, line in df.iterrows():\n",
    "    if re.match('[/一-龥/]', line['text']):\n",
    "        print(line['text'])\n",
    "        is_hanja.append(1)\n",
    "        hanja_to_korean.append(hanja.translate(line['text'], 'substitution'))\n",
    "    else:\n",
    "        is_hanja.append(0)\n",
    "        hanja_to_korean.append('')\n",
    "\n",
    "df['include_hanja'] = is_hanja\n",
    "df['hanja_translate'] = hanja_to_korean"
   ]
  },
  {
   "cell_type": "markdown",
   "metadata": {},
   "source": [
    "### 보이지 않는 유니코드 문자, [신간], [지역] 등 불용어 및 깨진 문자 복구"
   ]
  },
  {
   "cell_type": "code",
   "execution_count": 1,
   "metadata": {},
   "outputs": [],
   "source": [
    "import re\n",
    "def clean_sentence(sentence):\n",
    "    # Define a pattern to match both double and single quotes\n",
    "    quote_pattern = r\"[\\\"'‘’“”]\"\n",
    "\n",
    "    # Use the sub() function to replace matched quotes with an empty string\n",
    "    result = re.sub(quote_pattern, '', sentence)\n",
    "\n",
    "    # Define a pattern to match bracket pairs with 2 or fewer letters inside\n",
    "    short_word_pattern = r\"\\[[a-zA-Z가-힣]{,2}\\]\"\n",
    "\n",
    "    # Use the sub() function to replace matched bracket pairs with an empty string\n",
    "    result = re.sub(short_word_pattern, '', result)\n",
    "\n",
    "    # Define a pattern to match and remove invisible Unicode characters\n",
    "    invisible_char_pattern = r\"[\\x00-\\x08\\x0B\\x0C\\x0E-\\x1F\\x7F-\\x9F\\u200B\\u200C\\u2028\\u2029\\u00A0]\"\n",
    "    # \\u00A0 -> invisible unicode character\n",
    "    \n",
    "    # Use the sub() function to replace matched invisible characters with an empty string\n",
    "    result = re.sub(invisible_char_pattern, '', result, flags=re.UNICODE)\n",
    "    result = result.replace('&lt;', '<').replace('&gt;', '>')\n",
    "\n",
    "    return result\n",
    "# ==========================================================================\n"
   ]
  },
  {
   "cell_type": "code",
   "execution_count": 4,
   "metadata": {},
   "outputs": [
    {
     "name": "stdout",
     "output_type": "stream",
     "text": [
      "This is a sample sentence with quotes and .\n"
     ]
    }
   ],
   "source": [
    "input_sentence = \"This is a 'sample' sentence with \\\"quotes\\\" and [go].\\u200B\\u200C\"\n",
    "output_sentence = clean_sentence(input_sentence)\n",
    "print(output_sentence)"
   ]
  },
  {
   "cell_type": "code",
   "execution_count": 5,
   "metadata": {},
   "outputs": [
    {
     "name": "stdout",
     "output_type": "stream",
     "text": [
      " 황현택 두 번째 시집 뜬봉샘\n"
     ]
    }
   ],
   "source": [
    "input_sentence = \"[신간] 황현택 두 번째 시집 ‘뜬봉샘’\"\n",
    "output_sentence = clean_sentence(input_sentence)\n",
    "print(output_sentence)"
   ]
  },
  {
   "cell_type": "markdown",
   "metadata": {},
   "source": [
    "### 모델이 얼마나 정답에 가깝게 추론하는지, 오답은 어떤 유형의 오답을 기록하는지 탐색"
   ]
  },
  {
   "cell_type": "code",
   "execution_count": null,
   "metadata": {},
   "outputs": [],
   "source": [
    "out_train = pd.read_csv('../code/output_train.csv')\n",
    "train = pd.read_csv('../data/train.csv')"
   ]
  },
  {
   "cell_type": "code",
   "execution_count": null,
   "metadata": {},
   "outputs": [],
   "source": [
    "cnt = 0\n",
    "diff = pd.concat([train['target'], out_train['target'], train['text']], axis=1)\n",
    "diff.columns = ['ans', 'pred', 'text']\n",
    "\n",
    "diff"
   ]
  },
  {
   "cell_type": "code",
   "execution_count": null,
   "metadata": {},
   "outputs": [],
   "source": [
    "for idx, row in diff.iterrows():\n",
    "    if row['ans'] == row['pred']:\n",
    "        continue\n",
    "    else:\n",
    "        print(idx, row['and'], row['pred'], row['text'])\n",
    "        cnt += 1\n",
    "print(cnt)"
   ]
  }
 ],
 "metadata": {
  "kernelspec": {
   "display_name": "venv_ssd",
   "language": "python",
   "name": "venv_ssd"
  },
  "language_info": {
   "codemirror_mode": {
    "name": "ipython",
    "version": 3
   },
   "file_extension": ".py",
   "mimetype": "text/x-python",
   "name": "python",
   "nbconvert_exporter": "python",
   "pygments_lexer": "ipython3",
   "version": "3.10.11"
  }
 },
 "nbformat": 4,
 "nbformat_minor": 2
}
